{
  "nbformat": 4,
  "nbformat_minor": 0,
  "metadata": {
    "colab": {
      "name": "Anomaly detection - kafka producer.ipynb",
      "provenance": [],
      "collapsed_sections": []
    },
    "kernelspec": {
      "name": "python3",
      "display_name": "Python 3"
    }
  },
  "cells": [
    {
      "cell_type": "code",
      "metadata": {
        "id": "KmzgZYPotkez"
      },
      "source": [
        "from kafka import KafkaProducer\r\n",
        "import time\r\n",
        "import csv\r\n",
        "import binascii\r\n",
        "import json\r\n",
        "import numpy as np\r\n",
        "import pandas as pd\r\n",
        "from datetime import datetime, timedelta"
      ],
      "execution_count": 9,
      "outputs": []
    },
    {
      "cell_type": "code",
      "metadata": {
        "colab": {
          "base_uri": "https://localhost:8080/"
        },
        "id": "mukZOcwXtnkj",
        "outputId": "23856ce0-e4c6-4620-c930-630d1bc87294"
      },
      "source": [
        "!pip install kafka-python"
      ],
      "execution_count": 1,
      "outputs": [
        {
          "output_type": "stream",
          "text": [
            "Collecting kafka-python\n",
            "\u001b[?25l  Downloading https://files.pythonhosted.org/packages/75/68/dcb0db055309f680ab2931a3eeb22d865604b638acf8c914bedf4c1a0c8c/kafka_python-2.0.2-py2.py3-none-any.whl (246kB)\n",
            "\r\u001b[K     |█▎                              | 10kB 16.7MB/s eta 0:00:01\r\u001b[K     |██▋                             | 20kB 23.4MB/s eta 0:00:01\r\u001b[K     |████                            | 30kB 20.0MB/s eta 0:00:01\r\u001b[K     |█████▎                          | 40kB 15.0MB/s eta 0:00:01\r\u001b[K     |██████▋                         | 51kB 14.4MB/s eta 0:00:01\r\u001b[K     |████████                        | 61kB 13.6MB/s eta 0:00:01\r\u001b[K     |█████████▎                      | 71kB 11.8MB/s eta 0:00:01\r\u001b[K     |██████████▋                     | 81kB 12.8MB/s eta 0:00:01\r\u001b[K     |████████████                    | 92kB 11.3MB/s eta 0:00:01\r\u001b[K     |█████████████▎                  | 102kB 12.1MB/s eta 0:00:01\r\u001b[K     |██████████████▋                 | 112kB 12.1MB/s eta 0:00:01\r\u001b[K     |████████████████                | 122kB 12.1MB/s eta 0:00:01\r\u001b[K     |█████████████████▎              | 133kB 12.1MB/s eta 0:00:01\r\u001b[K     |██████████████████▋             | 143kB 12.1MB/s eta 0:00:01\r\u001b[K     |████████████████████            | 153kB 12.1MB/s eta 0:00:01\r\u001b[K     |█████████████████████▎          | 163kB 12.1MB/s eta 0:00:01\r\u001b[K     |██████████████████████▋         | 174kB 12.1MB/s eta 0:00:01\r\u001b[K     |████████████████████████        | 184kB 12.1MB/s eta 0:00:01\r\u001b[K     |█████████████████████████▎      | 194kB 12.1MB/s eta 0:00:01\r\u001b[K     |██████████████████████████▋     | 204kB 12.1MB/s eta 0:00:01\r\u001b[K     |████████████████████████████    | 215kB 12.1MB/s eta 0:00:01\r\u001b[K     |█████████████████████████████▎  | 225kB 12.1MB/s eta 0:00:01\r\u001b[K     |██████████████████████████████▋ | 235kB 12.1MB/s eta 0:00:01\r\u001b[K     |████████████████████████████████| 245kB 12.1MB/s eta 0:00:01\r\u001b[K     |████████████████████████████████| 256kB 12.1MB/s \n",
            "\u001b[?25hInstalling collected packages: kafka-python\n",
            "Successfully installed kafka-python-2.0.2\n"
          ],
          "name": "stdout"
        }
      ]
    },
    {
      "cell_type": "code",
      "metadata": {
        "colab": {
          "base_uri": "https://localhost:8080/"
        },
        "id": "3EG5lNMGt22I",
        "outputId": "4be46af3-001a-4469-9f66-81097381366e"
      },
      "source": [
        "from google.colab import drive\r\n",
        "drive.mount('/content/drive')"
      ],
      "execution_count": 5,
      "outputs": [
        {
          "output_type": "stream",
          "text": [
            "Mounted at /content/drive\n"
          ],
          "name": "stdout"
        }
      ]
    },
    {
      "cell_type": "code",
      "metadata": {
        "colab": {
          "base_uri": "https://localhost:8080/"
        },
        "id": "3sXRQg-lt4GG",
        "outputId": "105ebcd5-667b-4f00-802e-46e63bfbd3e7"
      },
      "source": [
        "PATH = \"/content/drive/My Drive/BTFEEDleftmenu.csv\"\r\n",
        "df = pd.read_csv(PATH)\r\n",
        "df.shape"
      ],
      "execution_count": 8,
      "outputs": [
        {
          "output_type": "execute_result",
          "data": {
            "text/plain": [
              "(31808404, 6)"
            ]
          },
          "metadata": {
            "tags": []
          },
          "execution_count": 8
        }
      ]
    },
    {
      "cell_type": "code",
      "metadata": {
        "colab": {
          "base_uri": "https://localhost:8080/",
          "height": 402
        },
        "id": "eQBTmQLQt6hr",
        "outputId": "0eeb403a-3e88-4d1b-a6da-b213b9940240"
      },
      "source": [
        "df['timestamp'] = df['event_start_epoc'].apply(lambda ts: datetime.fromtimestamp(ts))  \r\n",
        "df"
      ],
      "execution_count": 10,
      "outputs": [
        {
          "output_type": "execute_result",
          "data": {
            "text/html": [
              "<div>\n",
              "<style scoped>\n",
              "    .dataframe tbody tr th:only-of-type {\n",
              "        vertical-align: middle;\n",
              "    }\n",
              "\n",
              "    .dataframe tbody tr th {\n",
              "        vertical-align: top;\n",
              "    }\n",
              "\n",
              "    .dataframe thead th {\n",
              "        text-align: right;\n",
              "    }\n",
              "</style>\n",
              "<table border=\"1\" class=\"dataframe\">\n",
              "  <thead>\n",
              "    <tr style=\"text-align: right;\">\n",
              "      <th></th>\n",
              "      <th>response_time</th>\n",
              "      <th>event_start_ms</th>\n",
              "      <th>event_start_epoc</th>\n",
              "      <th>year</th>\n",
              "      <th>month</th>\n",
              "      <th>day</th>\n",
              "      <th>timestamp</th>\n",
              "    </tr>\n",
              "  </thead>\n",
              "  <tbody>\n",
              "    <tr>\n",
              "      <th>0</th>\n",
              "      <td>8.674542</td>\n",
              "      <td>564</td>\n",
              "      <td>1544956946</td>\n",
              "      <td>2018</td>\n",
              "      <td>12</td>\n",
              "      <td>16</td>\n",
              "      <td>2018-12-16 10:42:26</td>\n",
              "    </tr>\n",
              "    <tr>\n",
              "      <th>1</th>\n",
              "      <td>8.994416</td>\n",
              "      <td>388</td>\n",
              "      <td>1544956946</td>\n",
              "      <td>2018</td>\n",
              "      <td>12</td>\n",
              "      <td>16</td>\n",
              "      <td>2018-12-16 10:42:26</td>\n",
              "    </tr>\n",
              "    <tr>\n",
              "      <th>2</th>\n",
              "      <td>10.833192</td>\n",
              "      <td>493</td>\n",
              "      <td>1544956945</td>\n",
              "      <td>2018</td>\n",
              "      <td>12</td>\n",
              "      <td>16</td>\n",
              "      <td>2018-12-16 10:42:25</td>\n",
              "    </tr>\n",
              "    <tr>\n",
              "      <th>3</th>\n",
              "      <td>18.026684</td>\n",
              "      <td>315</td>\n",
              "      <td>1544956945</td>\n",
              "      <td>2018</td>\n",
              "      <td>12</td>\n",
              "      <td>16</td>\n",
              "      <td>2018-12-16 10:42:25</td>\n",
              "    </tr>\n",
              "    <tr>\n",
              "      <th>4</th>\n",
              "      <td>10.089430</td>\n",
              "      <td>32</td>\n",
              "      <td>1544956945</td>\n",
              "      <td>2018</td>\n",
              "      <td>12</td>\n",
              "      <td>16</td>\n",
              "      <td>2018-12-16 10:42:25</td>\n",
              "    </tr>\n",
              "    <tr>\n",
              "      <th>...</th>\n",
              "      <td>...</td>\n",
              "      <td>...</td>\n",
              "      <td>...</td>\n",
              "      <td>...</td>\n",
              "      <td>...</td>\n",
              "      <td>...</td>\n",
              "      <td>...</td>\n",
              "    </tr>\n",
              "    <tr>\n",
              "      <th>31808399</th>\n",
              "      <td>195.648865</td>\n",
              "      <td>495</td>\n",
              "      <td>1534143785</td>\n",
              "      <td>2018</td>\n",
              "      <td>8</td>\n",
              "      <td>13</td>\n",
              "      <td>2018-08-13 07:03:05</td>\n",
              "    </tr>\n",
              "    <tr>\n",
              "      <th>31808400</th>\n",
              "      <td>27.104675</td>\n",
              "      <td>686</td>\n",
              "      <td>1534143785</td>\n",
              "      <td>2018</td>\n",
              "      <td>8</td>\n",
              "      <td>13</td>\n",
              "      <td>2018-08-13 07:03:05</td>\n",
              "    </tr>\n",
              "    <tr>\n",
              "      <th>31808401</th>\n",
              "      <td>14.812492</td>\n",
              "      <td>707</td>\n",
              "      <td>1534143785</td>\n",
              "      <td>2018</td>\n",
              "      <td>8</td>\n",
              "      <td>13</td>\n",
              "      <td>2018-08-13 07:03:05</td>\n",
              "    </tr>\n",
              "    <tr>\n",
              "      <th>31808402</th>\n",
              "      <td>11.833150</td>\n",
              "      <td>765</td>\n",
              "      <td>1534143785</td>\n",
              "      <td>2018</td>\n",
              "      <td>8</td>\n",
              "      <td>13</td>\n",
              "      <td>2018-08-13 07:03:05</td>\n",
              "    </tr>\n",
              "    <tr>\n",
              "      <th>31808403</th>\n",
              "      <td>11.737757</td>\n",
              "      <td>801</td>\n",
              "      <td>1534143785</td>\n",
              "      <td>2018</td>\n",
              "      <td>8</td>\n",
              "      <td>13</td>\n",
              "      <td>2018-08-13 07:03:05</td>\n",
              "    </tr>\n",
              "  </tbody>\n",
              "</table>\n",
              "<p>31808404 rows × 7 columns</p>\n",
              "</div>"
            ],
            "text/plain": [
              "          response_time  event_start_ms  ...  day           timestamp\n",
              "0              8.674542             564  ...   16 2018-12-16 10:42:26\n",
              "1              8.994416             388  ...   16 2018-12-16 10:42:26\n",
              "2             10.833192             493  ...   16 2018-12-16 10:42:25\n",
              "3             18.026684             315  ...   16 2018-12-16 10:42:25\n",
              "4             10.089430              32  ...   16 2018-12-16 10:42:25\n",
              "...                 ...             ...  ...  ...                 ...\n",
              "31808399     195.648865             495  ...   13 2018-08-13 07:03:05\n",
              "31808400      27.104675             686  ...   13 2018-08-13 07:03:05\n",
              "31808401      14.812492             707  ...   13 2018-08-13 07:03:05\n",
              "31808402      11.833150             765  ...   13 2018-08-13 07:03:05\n",
              "31808403      11.737757             801  ...   13 2018-08-13 07:03:05\n",
              "\n",
              "[31808404 rows x 7 columns]"
            ]
          },
          "metadata": {
            "tags": []
          },
          "execution_count": 10
        }
      ]
    },
    {
      "cell_type": "code",
      "metadata": {
        "id": "r1W7NJhgt7KI"
      },
      "source": [
        "df.head(2000).to_csv('operational_log.csv', index=True)"
      ],
      "execution_count": 11,
      "outputs": []
    },
    {
      "cell_type": "code",
      "metadata": {
        "colab": {
          "base_uri": "https://localhost:8080/",
          "height": 195
        },
        "id": "Udw4xbLYt-GT",
        "outputId": "d8f1c270-7607-4c47-9807-e4d6bfeb8582"
      },
      "source": [
        "PATH = \"operational_log.csv\"\r\n",
        "df_log = pd.read_csv(PATH)\r\n",
        "df_log.head()"
      ],
      "execution_count": 12,
      "outputs": [
        {
          "output_type": "execute_result",
          "data": {
            "text/html": [
              "<div>\n",
              "<style scoped>\n",
              "    .dataframe tbody tr th:only-of-type {\n",
              "        vertical-align: middle;\n",
              "    }\n",
              "\n",
              "    .dataframe tbody tr th {\n",
              "        vertical-align: top;\n",
              "    }\n",
              "\n",
              "    .dataframe thead th {\n",
              "        text-align: right;\n",
              "    }\n",
              "</style>\n",
              "<table border=\"1\" class=\"dataframe\">\n",
              "  <thead>\n",
              "    <tr style=\"text-align: right;\">\n",
              "      <th></th>\n",
              "      <th>Unnamed: 0</th>\n",
              "      <th>response_time</th>\n",
              "      <th>event_start_ms</th>\n",
              "      <th>event_start_epoc</th>\n",
              "      <th>year</th>\n",
              "      <th>month</th>\n",
              "      <th>day</th>\n",
              "      <th>timestamp</th>\n",
              "    </tr>\n",
              "  </thead>\n",
              "  <tbody>\n",
              "    <tr>\n",
              "      <th>0</th>\n",
              "      <td>0</td>\n",
              "      <td>8.674542</td>\n",
              "      <td>564</td>\n",
              "      <td>1544956946</td>\n",
              "      <td>2018</td>\n",
              "      <td>12</td>\n",
              "      <td>16</td>\n",
              "      <td>2018-12-16 10:42:26</td>\n",
              "    </tr>\n",
              "    <tr>\n",
              "      <th>1</th>\n",
              "      <td>1</td>\n",
              "      <td>8.994416</td>\n",
              "      <td>388</td>\n",
              "      <td>1544956946</td>\n",
              "      <td>2018</td>\n",
              "      <td>12</td>\n",
              "      <td>16</td>\n",
              "      <td>2018-12-16 10:42:26</td>\n",
              "    </tr>\n",
              "    <tr>\n",
              "      <th>2</th>\n",
              "      <td>2</td>\n",
              "      <td>10.833192</td>\n",
              "      <td>493</td>\n",
              "      <td>1544956945</td>\n",
              "      <td>2018</td>\n",
              "      <td>12</td>\n",
              "      <td>16</td>\n",
              "      <td>2018-12-16 10:42:25</td>\n",
              "    </tr>\n",
              "    <tr>\n",
              "      <th>3</th>\n",
              "      <td>3</td>\n",
              "      <td>18.026684</td>\n",
              "      <td>315</td>\n",
              "      <td>1544956945</td>\n",
              "      <td>2018</td>\n",
              "      <td>12</td>\n",
              "      <td>16</td>\n",
              "      <td>2018-12-16 10:42:25</td>\n",
              "    </tr>\n",
              "    <tr>\n",
              "      <th>4</th>\n",
              "      <td>4</td>\n",
              "      <td>10.089430</td>\n",
              "      <td>32</td>\n",
              "      <td>1544956945</td>\n",
              "      <td>2018</td>\n",
              "      <td>12</td>\n",
              "      <td>16</td>\n",
              "      <td>2018-12-16 10:42:25</td>\n",
              "    </tr>\n",
              "  </tbody>\n",
              "</table>\n",
              "</div>"
            ],
            "text/plain": [
              "   Unnamed: 0  response_time  event_start_ms  ...  month  day            timestamp\n",
              "0           0       8.674542             564  ...     12   16  2018-12-16 10:42:26\n",
              "1           1       8.994416             388  ...     12   16  2018-12-16 10:42:26\n",
              "2           2      10.833192             493  ...     12   16  2018-12-16 10:42:25\n",
              "3           3      18.026684             315  ...     12   16  2018-12-16 10:42:25\n",
              "4           4      10.089430              32  ...     12   16  2018-12-16 10:42:25\n",
              "\n",
              "[5 rows x 8 columns]"
            ]
          },
          "metadata": {
            "tags": []
          },
          "execution_count": 12
        }
      ]
    },
    {
      "cell_type": "code",
      "metadata": {
        "id": "FiYZUNlltqMt"
      },
      "source": [
        "# producer = KafkaProducer(bootstrap_servers=['127.0.0.1:9092'], key_serializer=lambda v: v.encode('utf-8'), value_serializer=lambda v: json.dumps(v).encode('utf-8'), api_version=(0, 10, 1))\r\n",
        "producer = KafkaProducer(bootstrap_servers=['localhost:9092','127.0.0.1:9092'],value_serializer=lambda v: v.encode('utf-8'), api_version=(2,0,2))\r\n",
        "def sendRowData(data,key,topic):\r\n",
        "    if type(topic) == bytes:\r\n",
        "      topic = topic.decode('utf-8')\r\n",
        "    producer.send(topic, value=data, key=key)"
      ],
      "execution_count": 13,
      "outputs": []
    },
    {
      "cell_type": "code",
      "metadata": {
        "colab": {
          "base_uri": "https://localhost:8080/"
        },
        "id": "mvA1g17wtucr",
        "outputId": "28af8dac-b843-4cb8-91e6-556ced243b22"
      },
      "source": [
        "csvfile = open('operational_log.csv', 'r')\r\n",
        "fieldnames = [\"id\", \"response_time\", \"event_start_ms\", \"event_start_epoc\", \"year\", \"month\", \"day\", \"timestamp\"]\r\n",
        "reader = csv.DictReader(csvfile,fieldnames)\r\n",
        "next(reader)\r\n",
        "for row in reader:    \r\n",
        "    print(row)\r\n",
        "    print(json.dumps(row))\r\n",
        "    print(json.dumps(row).encode('utf-8'))\r\n",
        "    break"
      ],
      "execution_count": 14,
      "outputs": [
        {
          "output_type": "stream",
          "text": [
            "OrderedDict([('id', '0'), ('response_time', '8.674541994929314'), ('event_start_ms', '564'), ('event_start_epoc', '1544956946'), ('year', '2018'), ('month', '12'), ('day', '16'), ('timestamp', '2018-12-16 10:42:26')])\n",
            "{\"id\": \"0\", \"response_time\": \"8.674541994929314\", \"event_start_ms\": \"564\", \"event_start_epoc\": \"1544956946\", \"year\": \"2018\", \"month\": \"12\", \"day\": \"16\", \"timestamp\": \"2018-12-16 10:42:26\"}\n",
            "b'{\"id\": \"0\", \"response_time\": \"8.674541994929314\", \"event_start_ms\": \"564\", \"event_start_epoc\": \"1544956946\", \"year\": \"2018\", \"month\": \"12\", \"day\": \"16\", \"timestamp\": \"2018-12-16 10:42:26\"}'\n"
          ],
          "name": "stdout"
        }
      ]
    },
    {
      "cell_type": "code",
      "metadata": {
        "id": "dQkvQVYltwcx"
      },
      "source": [
        "value_struct = {\"schema\":\r\n",
        "               {\"type\":\"struct\",\r\n",
        "                \"fields\":[{\"type\":\"int64\",\"optional\":False,\"field\":\"id\"},\r\n",
        "                          {\"type\":\"float64\",\"optional\":False,\"field\":\"response_time\"},\r\n",
        "                          {\"type\":\"int64\",\"optional\":False,\"field\":\"event_start_ms\"},\r\n",
        "                          {\"type\":\"int64\",\"optional\":False,\"field\":\"event_start_epoc\"},\r\n",
        "                          {\"type\":\"int64\",\"optional\":False,\"field\":\"year\"},\r\n",
        "                          {\"type\":\"int64\",\"optional\":False,\"field\":\"month\"},\r\n",
        "                          {\"type\":\"int64\",\"optional\":False,\"field\":\"day\"},\r\n",
        "                          {\"type\":\"string\",\"optional\":False,\"field\":\"timestamp\"}],\r\n",
        "                \"optional\":False,\r\n",
        "                \"name\":\"hu.elte.anomalydetection.OperationalLog\"},\r\n",
        "               \"payload\":{}}\r\n",
        "csvfile = open('operational_log.csv', 'r')\r\n",
        "fieldnames = [\"id\", \"response_time\", \"event_start_ms\", \"event_start_epoc\", \"year\", \"month\", \"day\", \"timestamp\"]\r\n",
        "reader = csv.DictReader(csvfile, fieldnames)\r\n",
        "next(reader)\r\n",
        "for row in reader:    \r\n",
        "    value_struct[\"payload\"] = json.loads(json.dumps(row))\r\n",
        "    sendRowData(value_struct, row['id'], 'operational-log-data')"
      ],
      "execution_count": null,
      "outputs": []
    }
  ]
}